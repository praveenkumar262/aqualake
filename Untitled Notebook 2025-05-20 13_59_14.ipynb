{
 "cells": [
  {
   "cell_type": "code",
   "execution_count": 0,
   "metadata": {
    "application/vnd.databricks.v1+cell": {
     "cellMetadata": {
      "byteLimit": 2048000,
      "implicitDf": true,
      "rowLimit": 10000
     },
     "inputWidgets": {},
     "nuid": "effa5442-36fa-4a89-906f-a0dc2e5c784a",
     "showTitle": false,
     "tableResultSettingsMap": {},
     "title": ""
    }
   },
   "outputs": [
    {
     "output_type": "display_data",
     "data": {
      "text/html": [
       "<style scoped>\n",
       "  .table-result-container {\n",
       "    max-height: 300px;\n",
       "    overflow: auto;\n",
       "  }\n",
       "  table, th, td {\n",
       "    border: 1px solid black;\n",
       "    border-collapse: collapse;\n",
       "  }\n",
       "  th, td {\n",
       "    padding: 5px;\n",
       "  }\n",
       "  th {\n",
       "    text-align: left;\n",
       "  }\n",
       "</style><div class='table-result-container'><table class='table-result'><thead style='background-color: white'><tr><th>PipelineName</th><th>ActivityName</th><th>ActivityType</th><th>ExecutionStatus</th><th>StartTime</th><th>EndTime</th><th>Message</th><th>RunId</th></tr></thead><tbody><tr><td>DataFactory_Activity</td><td>Notebook Execution</td><td>Databricks Notebook</td><td>Success</td><td>2025-06-11T09:51:44.783821Z</td><td>2025-06-11T09:51:44.783824Z</td><td>Pipeline ran successfully.</td><td>ec316a7c-e397-481f-b84f-2b8c26c34c58</td></tr><tr><td>DataFactory_Activity</td><td>Notebook Execution</td><td>Databricks Notebook</td><td>Success</td><td>2025-06-11T10:07:40.762996Z</td><td>2025-06-11T10:07:40.762998Z</td><td>Pipeline ran successfully.</td><td>e77cd28b-fb42-4a9f-9e1f-fe6cd6b78471</td></tr><tr><td>DataFactory_Activity</td><td>Notebook Execution</td><td>Databricks Notebook</td><td>Success</td><td>2025-06-11T09:15:59.898957Z</td><td>2025-06-11T09:15:59.89896Z</td><td>Pipeline ran successfully.</td><td>9351e633-cfe0-4af6-b405-c0f4a0c91d67</td></tr><tr><td>DataFactory_Activity</td><td>Notebook Execution</td><td>Databricks Notebook</td><td>Success</td><td>2025-06-11T07:05:16.110547Z</td><td>2025-06-11T07:05:16.11055Z</td><td>Pipeline ran successfully.</td><td>ef4c897a-2fd2-4d01-af87-3be9b7eaa138</td></tr><tr><td>DataFactory_Activity</td><td>Notebook Execution</td><td>Databricks Notebook</td><td>Success</td><td>2025-06-11T09:56:25.027788Z</td><td>2025-06-11T09:56:25.027791Z</td><td>Pipeline ran successfully.</td><td>a4d90085-063f-4514-ae46-00005dc9bf69</td></tr><tr><td>DataFactory_Activity</td><td>Notebook Execution</td><td>Databricks Notebook</td><td>Success</td><td>2025-06-11T07:16:04.061786Z</td><td>2025-06-11T07:16:04.06179Z</td><td>Pipeline ran successfully.</td><td>63a952f2-3307-463d-bbc9-1d704a0f5534</td></tr></tbody></table></div>"
      ]
     },
     "metadata": {
      "application/vnd.databricks.v1+output": {
       "addedWidgets": {},
       "aggData": [],
       "aggError": "",
       "aggOverflow": false,
       "aggSchema": [],
       "aggSeriesLimitReached": false,
       "aggType": "",
       "arguments": {},
       "columnCustomDisplayInfos": {},
       "data": [
        [
         "DataFactory_Activity",
         "Notebook Execution",
         "Databricks Notebook",
         "Success",
         "2025-06-11T09:51:44.783821Z",
         "2025-06-11T09:51:44.783824Z",
         "Pipeline ran successfully.",
         "ec316a7c-e397-481f-b84f-2b8c26c34c58"
        ],
        [
         "DataFactory_Activity",
         "Notebook Execution",
         "Databricks Notebook",
         "Success",
         "2025-06-11T10:07:40.762996Z",
         "2025-06-11T10:07:40.762998Z",
         "Pipeline ran successfully.",
         "e77cd28b-fb42-4a9f-9e1f-fe6cd6b78471"
        ],
        [
         "DataFactory_Activity",
         "Notebook Execution",
         "Databricks Notebook",
         "Success",
         "2025-06-11T09:15:59.898957Z",
         "2025-06-11T09:15:59.89896Z",
         "Pipeline ran successfully.",
         "9351e633-cfe0-4af6-b405-c0f4a0c91d67"
        ],
        [
         "DataFactory_Activity",
         "Notebook Execution",
         "Databricks Notebook",
         "Success",
         "2025-06-11T07:05:16.110547Z",
         "2025-06-11T07:05:16.11055Z",
         "Pipeline ran successfully.",
         "ef4c897a-2fd2-4d01-af87-3be9b7eaa138"
        ],
        [
         "DataFactory_Activity",
         "Notebook Execution",
         "Databricks Notebook",
         "Success",
         "2025-06-11T09:56:25.027788Z",
         "2025-06-11T09:56:25.027791Z",
         "Pipeline ran successfully.",
         "a4d90085-063f-4514-ae46-00005dc9bf69"
        ],
        [
         "DataFactory_Activity",
         "Notebook Execution",
         "Databricks Notebook",
         "Success",
         "2025-06-11T07:16:04.061786Z",
         "2025-06-11T07:16:04.06179Z",
         "Pipeline ran successfully.",
         "63a952f2-3307-463d-bbc9-1d704a0f5534"
        ]
       ],
       "datasetInfos": [],
       "dbfsResultPath": null,
       "isJsonSchema": true,
       "metadata": {
        "dataframeName": "_sqldf",
        "executionCount": 1
       },
       "overflow": false,
       "plotOptions": {
        "customPlotOptions": {},
        "displayType": "table",
        "pivotAggregation": null,
        "pivotColumns": null,
        "xColumns": null,
        "yColumns": null
       },
       "removedWidgets": [],
       "schema": [
        {
         "metadata": "{}",
         "name": "PipelineName",
         "type": "\"string\""
        },
        {
         "metadata": "{}",
         "name": "ActivityName",
         "type": "\"string\""
        },
        {
         "metadata": "{}",
         "name": "ActivityType",
         "type": "\"string\""
        },
        {
         "metadata": "{}",
         "name": "ExecutionStatus",
         "type": "\"string\""
        },
        {
         "metadata": "{}",
         "name": "StartTime",
         "type": "\"timestamp\""
        },
        {
         "metadata": "{}",
         "name": "EndTime",
         "type": "\"timestamp\""
        },
        {
         "metadata": "{}",
         "name": "Message",
         "type": "\"string\""
        },
        {
         "metadata": "{}",
         "name": "RunId",
         "type": "\"string\""
        }
       ],
       "type": "table"
      }
     },
     "output_type": "display_data"
    }
   ],
   "source": [
    "%sql\n",
    "select * from pipeline_activity_log"
   ]
  },
  {
   "cell_type": "code",
   "execution_count": 0,
   "metadata": {
    "application/vnd.databricks.v1+cell": {
     "cellMetadata": {
      "byteLimit": 2048000,
      "implicitDf": true,
      "rowLimit": 10000
     },
     "inputWidgets": {},
     "nuid": "8f816f43-17c6-481b-95af-5851ca9b7e28",
     "showTitle": false,
     "tableResultSettingsMap": {},
     "title": ""
    }
   },
   "outputs": [
    {
     "output_type": "display_data",
     "data": {
      "text/html": [
       "<style scoped>\n",
       "  .table-result-container {\n",
       "    max-height: 300px;\n",
       "    overflow: auto;\n",
       "  }\n",
       "  table, th, td {\n",
       "    border: 1px solid black;\n",
       "    border-collapse: collapse;\n",
       "  }\n",
       "  th, td {\n",
       "    padding: 5px;\n",
       "  }\n",
       "  th {\n",
       "    text-align: left;\n",
       "  }\n",
       "</style><div class='table-result-container'><table class='table-result'><thead style='background-color: white'><tr><th>pipeline_name</th><th>activity_name</th><th>status</th><th>start_time</th><th>end_time</th><th>message</th></tr></thead><tbody><tr><td>Incremental_Load_With_Timestamp</td><td>\"Timestamp\"</td><td>\"Failed\"</td><td>2025-06-12T04:37:21.06203Z</td><td>2025-06-12T04:38:14.005897Z</td><td>Databricks execution failed with error state: InternalError, error message: Task da31eebe-8b47-438c-b706-364af8eed894 failed with message: Workload failed, see run output for details. This caused all downstream tasks to get skipped.. For more details please check the run page url: https://adb-1966020080392065.5.azuredatabricks.net/?o=1966020080392065#job/780931440565842/run/332198820157500.</td></tr><tr><td>Incremental_Load_With_Timestamp</td><td>\"Timestamp\"</td><td>\"Success\"</td><td>2025-06-12T04:28:26.787066Z</td><td>2025-06-12T04:29:31.44832Z</td><td>\"\"Timestamp completed successfully\"</td></tr><tr><td>Incremental_Load_With_Timestamp</td><td>\"Timestamp\"</td><td>\"Started\"</td><td>2025-06-12T04:28:26.787066Z</td><td>null</td><td>\"Pipeline started\"</td></tr><tr><td>Incremental_Load_With_Timestamp</td><td>\"Timestamp\"</td><td>\"Started\"</td><td>2025-06-12T04:37:21.06203Z</td><td>null</td><td>\"Pipeline started\"</td></tr></tbody></table></div>"
      ]
     },
     "metadata": {
      "application/vnd.databricks.v1+output": {
       "addedWidgets": {},
       "aggData": [],
       "aggError": "",
       "aggOverflow": false,
       "aggSchema": [],
       "aggSeriesLimitReached": false,
       "aggType": "",
       "arguments": {},
       "columnCustomDisplayInfos": {},
       "data": [
        [
         "Incremental_Load_With_Timestamp",
         "\"Timestamp\"",
         "\"Failed\"",
         "2025-06-12T04:37:21.06203Z",
         "2025-06-12T04:38:14.005897Z",
         "Databricks execution failed with error state: InternalError, error message: Task da31eebe-8b47-438c-b706-364af8eed894 failed with message: Workload failed, see run output for details. This caused all downstream tasks to get skipped.. For more details please check the run page url: https://adb-1966020080392065.5.azuredatabricks.net/?o=1966020080392065#job/780931440565842/run/332198820157500."
        ],
        [
         "Incremental_Load_With_Timestamp",
         "\"Timestamp\"",
         "\"Success\"",
         "2025-06-12T04:28:26.787066Z",
         "2025-06-12T04:29:31.44832Z",
         "\"\"Timestamp completed successfully\""
        ],
        [
         "Incremental_Load_With_Timestamp",
         "\"Timestamp\"",
         "\"Started\"",
         "2025-06-12T04:28:26.787066Z",
         null,
         "\"Pipeline started\""
        ],
        [
         "Incremental_Load_With_Timestamp",
         "\"Timestamp\"",
         "\"Started\"",
         "2025-06-12T04:37:21.06203Z",
         null,
         "\"Pipeline started\""
        ]
       ],
       "datasetInfos": [],
       "dbfsResultPath": null,
       "isJsonSchema": true,
       "metadata": {
        "dataframeName": "_sqldf",
        "executionCount": 4
       },
       "overflow": false,
       "plotOptions": {
        "customPlotOptions": {},
        "displayType": "table",
        "pivotAggregation": null,
        "pivotColumns": null,
        "xColumns": null,
        "yColumns": null
       },
       "removedWidgets": [],
       "schema": [
        {
         "metadata": "{}",
         "name": "pipeline_name",
         "type": "\"string\""
        },
        {
         "metadata": "{}",
         "name": "activity_name",
         "type": "\"string\""
        },
        {
         "metadata": "{}",
         "name": "status",
         "type": "\"string\""
        },
        {
         "metadata": "{}",
         "name": "start_time",
         "type": "\"timestamp\""
        },
        {
         "metadata": "{}",
         "name": "end_time",
         "type": "\"timestamp\""
        },
        {
         "metadata": "{}",
         "name": "message",
         "type": "\"string\""
        }
       ],
       "type": "table"
      }
     },
     "output_type": "display_data"
    }
   ],
   "source": [
    "%sql\n",
    "select * from podlakehouse.demo_schema.pipeline_log"
   ]
  },
  {
   "cell_type": "code",
   "execution_count": 0,
   "metadata": {
    "application/vnd.databricks.v1+cell": {
     "cellMetadata": {
      "byteLimit": 2048000,
      "implicitDf": true,
      "rowLimit": 10000
     },
     "inputWidgets": {},
     "nuid": "99300c8f-8bfe-4a1b-90df-207ac549b0a3",
     "showTitle": false,
     "tableResultSettingsMap": {},
     "title": ""
    }
   },
   "outputs": [
    {
     "output_type": "display_data",
     "data": {
      "text/html": [
       "<style scoped>\n",
       "  .table-result-container {\n",
       "    max-height: 300px;\n",
       "    overflow: auto;\n",
       "  }\n",
       "  table, th, td {\n",
       "    border: 1px solid black;\n",
       "    border-collapse: collapse;\n",
       "  }\n",
       "  th, td {\n",
       "    padding: 5px;\n",
       "  }\n",
       "  th {\n",
       "    text-align: left;\n",
       "  }\n",
       "</style><div class='table-result-container'><table class='table-result'><thead style='background-color: white'><tr></tr></thead><tbody></tbody></table></div>"
      ]
     },
     "metadata": {
      "application/vnd.databricks.v1+output": {
       "addedWidgets": {},
       "aggData": [],
       "aggError": "",
       "aggOverflow": false,
       "aggSchema": [],
       "aggSeriesLimitReached": false,
       "aggType": "",
       "arguments": {},
       "columnCustomDisplayInfos": {},
       "data": [],
       "datasetInfos": [],
       "dbfsResultPath": null,
       "isJsonSchema": true,
       "metadata": {
        "dataframeName": null
       },
       "overflow": false,
       "plotOptions": {
        "customPlotOptions": {},
        "displayType": "table",
        "pivotAggregation": null,
        "pivotColumns": null,
        "xColumns": null,
        "yColumns": null
       },
       "removedWidgets": [],
       "schema": [],
       "type": "table"
      }
     },
     "output_type": "display_data"
    }
   ],
   "source": [
    "%sql\n",
    "truncate table podlakehouse.incremental_db.control_framework"
   ]
  },
  {
   "cell_type": "code",
   "execution_count": 0,
   "metadata": {
    "application/vnd.databricks.v1+cell": {
     "cellMetadata": {
      "byteLimit": 2048000,
      "implicitDf": true,
      "rowLimit": 10000
     },
     "inputWidgets": {},
     "nuid": "792948a4-18fb-4403-961e-96673cc7c431",
     "showTitle": false,
     "tableResultSettingsMap": {},
     "title": ""
    }
   },
   "outputs": [
    {
     "output_type": "display_data",
     "data": {
      "text/html": [
       "<style scoped>\n",
       "  .table-result-container {\n",
       "    max-height: 300px;\n",
       "    overflow: auto;\n",
       "  }\n",
       "  table, th, td {\n",
       "    border: 1px solid black;\n",
       "    border-collapse: collapse;\n",
       "  }\n",
       "  th, td {\n",
       "    padding: 5px;\n",
       "  }\n",
       "  th {\n",
       "    text-align: left;\n",
       "  }\n",
       "</style><div class='table-result-container'><table class='table-result'><thead style='background-color: white'><tr><th>TableName</th><th>SourceCount</th><th>TargetCount</th><th>LoadTime</th><th>Status</th></tr></thead><tbody><tr><td>bronze_table_B</td><td>20</td><td>20</td><td>2025-05-20T13:54:29.803Z</td><td>Success</td></tr><tr><td>bronze_table_B</td><td>20</td><td>20</td><td>2025-05-20T09:14:40.104Z</td><td>Success</td></tr><tr><td>bronze_table_A</td><td>20</td><td>20</td><td>2025-05-23T01:30:00.077Z</td><td>Success</td></tr><tr><td>bronze_table_B</td><td>20</td><td>20</td><td>2025-06-11T07:49:10.755Z</td><td>Success</td></tr><tr><td>bronze_table_A</td><td>20</td><td>20</td><td>2025-05-23T01:25:09.589Z</td><td>Success</td></tr><tr><td>bronze_table_A</td><td>20</td><td>20</td><td>2025-06-11T07:44:33.248Z</td><td>Success</td></tr><tr><td>bronze_table_A</td><td>20</td><td>20</td><td>2025-06-11T07:34:12.787Z</td><td>Success</td></tr><tr><td>bronze_table_B</td><td>20</td><td>20</td><td>2025-06-11T07:42:31.887Z</td><td>Success</td></tr><tr><td>bronze_table_B</td><td>20</td><td>20</td><td>2025-06-11T09:40:13.219Z</td><td>Success</td></tr><tr><td>bronze_table_B</td><td>20</td><td>20</td><td>2025-06-11T10:07:03.107Z</td><td>Success</td></tr><tr><td>bronze_table_A</td><td>20</td><td>20</td><td>2025-06-11T10:55:18.96Z</td><td>Success</td></tr><tr><td>bronze_table_A</td><td>20</td><td>20</td><td>2025-06-11T09:15:26.293Z</td><td>Success</td></tr><tr><td>bronze_table_A</td><td>20</td><td>20</td><td>2025-06-11T09:51:09.282Z</td><td>Success</td></tr><tr><td>bronze_table_A</td><td>20</td><td>20</td><td>2025-05-20T13:44:34.518Z</td><td>Success</td></tr><tr><td>bronze_table_A</td><td>20</td><td>20</td><td>2025-05-22T09:40:04.219Z</td><td>Success</td></tr><tr><td>bronze_table_B</td><td>20</td><td>20</td><td>2025-05-26T01:36:01.096Z</td><td>Success</td></tr><tr><td>bronze_table_B</td><td>20</td><td>20</td><td>2025-05-23T01:27:53.051Z</td><td>Success</td></tr><tr><td>bronze_table_B</td><td>20</td><td>20</td><td>2025-06-10T14:10:02.833Z</td><td>Success</td></tr><tr><td>bronze_table_B</td><td>20</td><td>20</td><td>2025-06-11T07:36:39.92Z</td><td>Success</td></tr><tr><td>bronze_table_A</td><td>20</td><td>20</td><td>2025-05-20T04:52:55.404Z</td><td>Success</td></tr><tr><td>bronze_table_B</td><td>1000</td><td>1000</td><td>2025-05-19T10:09:38.591Z</td><td>Success</td></tr><tr><td>bronze_table_B</td><td>20</td><td>20</td><td>2025-05-22T13:31:18.601Z</td><td>Success</td></tr><tr><td>bronze_table_A</td><td>20</td><td>20</td><td>2025-05-27T04:43:00.553Z</td><td>Success</td></tr><tr><td>bronze_table_A</td><td>20</td><td>20</td><td>2025-06-11T07:40:45.945Z</td><td>Success</td></tr></tbody></table></div>"
      ]
     },
     "metadata": {
      "application/vnd.databricks.v1+output": {
       "addedWidgets": {},
       "aggData": [],
       "aggError": "",
       "aggOverflow": false,
       "aggSchema": [],
       "aggSeriesLimitReached": false,
       "aggType": "",
       "arguments": {},
       "columnCustomDisplayInfos": {},
       "data": [
        [
         "bronze_table_B",
         20,
         20,
         "2025-05-20T13:54:29.803Z",
         "Success"
        ],
        [
         "bronze_table_B",
         20,
         20,
         "2025-05-20T09:14:40.104Z",
         "Success"
        ],
        [
         "bronze_table_A",
         20,
         20,
         "2025-05-23T01:30:00.077Z",
         "Success"
        ],
        [
         "bronze_table_B",
         20,
         20,
         "2025-06-11T07:49:10.755Z",
         "Success"
        ],
        [
         "bronze_table_A",
         20,
         20,
         "2025-05-23T01:25:09.589Z",
         "Success"
        ],
        [
         "bronze_table_A",
         20,
         20,
         "2025-06-11T07:44:33.248Z",
         "Success"
        ],
        [
         "bronze_table_A",
         20,
         20,
         "2025-06-11T07:34:12.787Z",
         "Success"
        ],
        [
         "bronze_table_B",
         20,
         20,
         "2025-06-11T07:42:31.887Z",
         "Success"
        ],
        [
         "bronze_table_B",
         20,
         20,
         "2025-06-11T09:40:13.219Z",
         "Success"
        ],
        [
         "bronze_table_B",
         20,
         20,
         "2025-06-11T10:07:03.107Z",
         "Success"
        ],
        [
         "bronze_table_A",
         20,
         20,
         "2025-06-11T10:55:18.96Z",
         "Success"
        ],
        [
         "bronze_table_A",
         20,
         20,
         "2025-06-11T09:15:26.293Z",
         "Success"
        ],
        [
         "bronze_table_A",
         20,
         20,
         "2025-06-11T09:51:09.282Z",
         "Success"
        ],
        [
         "bronze_table_A",
         20,
         20,
         "2025-05-20T13:44:34.518Z",
         "Success"
        ],
        [
         "bronze_table_A",
         20,
         20,
         "2025-05-22T09:40:04.219Z",
         "Success"
        ],
        [
         "bronze_table_B",
         20,
         20,
         "2025-05-26T01:36:01.096Z",
         "Success"
        ],
        [
         "bronze_table_B",
         20,
         20,
         "2025-05-23T01:27:53.051Z",
         "Success"
        ],
        [
         "bronze_table_B",
         20,
         20,
         "2025-06-10T14:10:02.833Z",
         "Success"
        ],
        [
         "bronze_table_B",
         20,
         20,
         "2025-06-11T07:36:39.92Z",
         "Success"
        ],
        [
         "bronze_table_A",
         20,
         20,
         "2025-05-20T04:52:55.404Z",
         "Success"
        ],
        [
         "bronze_table_B",
         1000,
         1000,
         "2025-05-19T10:09:38.591Z",
         "Success"
        ],
        [
         "bronze_table_B",
         20,
         20,
         "2025-05-22T13:31:18.601Z",
         "Success"
        ],
        [
         "bronze_table_A",
         20,
         20,
         "2025-05-27T04:43:00.553Z",
         "Success"
        ],
        [
         "bronze_table_A",
         20,
         20,
         "2025-06-11T07:40:45.945Z",
         "Success"
        ]
       ],
       "datasetInfos": [],
       "dbfsResultPath": null,
       "isJsonSchema": true,
       "metadata": {
        "dataframeName": "_sqldf",
        "executionCount": 1
       },
       "overflow": false,
       "plotOptions": {
        "customPlotOptions": {},
        "displayType": "table",
        "pivotAggregation": null,
        "pivotColumns": null,
        "xColumns": null,
        "yColumns": null
       },
       "removedWidgets": [],
       "schema": [
        {
         "metadata": "{}",
         "name": "TableName",
         "type": "\"string\""
        },
        {
         "metadata": "{}",
         "name": "SourceCount",
         "type": "\"long\""
        },
        {
         "metadata": "{}",
         "name": "TargetCount",
         "type": "\"long\""
        },
        {
         "metadata": "{}",
         "name": "LoadTime",
         "type": "\"timestamp\""
        },
        {
         "metadata": "{}",
         "name": "Status",
         "type": "\"string\""
        }
       ],
       "type": "table"
      }
     },
     "output_type": "display_data"
    }
   ],
   "source": [
    "%sql\n",
    "select * from  podlakehouse.demo_schema.control_framework"
   ]
  }
 ],
 "metadata": {
  "application/vnd.databricks.v1+notebook": {
   "computePreferences": null,
   "dashboards": [],
   "environmentMetadata": {
    "base_environment": "",
    "environment_version": "2"
   },
   "inputWidgetPreferences": null,
   "language": "python",
   "notebookMetadata": {
    "mostRecentlyExecutedCommandWithImplicitDF": {
     "commandId": 8715301833988327,
     "dataframes": [
      "_sqldf"
     ]
    },
    "pythonIndentUnit": 4
   },
   "notebookName": "Untitled Notebook 2025-05-20 13:59:14",
   "widgets": {}
  },
  "language_info": {
   "name": "python"
  }
 },
 "nbformat": 4,
 "nbformat_minor": 0
}