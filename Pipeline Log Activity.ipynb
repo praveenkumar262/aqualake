{
 "cells": [
  {
   "cell_type": "code",
   "execution_count": 0,
   "metadata": {
    "application/vnd.databricks.v1+cell": {
     "cellMetadata": {
      "byteLimit": 2048000,
      "implicitDf": true,
      "rowLimit": 10000
     },
     "inputWidgets": {},
     "nuid": "b7599762-28d9-411f-850a-48068b925314",
     "showTitle": false,
     "tableResultSettingsMap": {},
     "title": ""
    }
   },
   "outputs": [
    {
     "output_type": "display_data",
     "data": {
      "text/html": [
       "<style scoped>\n",
       "  .table-result-container {\n",
       "    max-height: 300px;\n",
       "    overflow: auto;\n",
       "  }\n",
       "  table, th, td {\n",
       "    border: 1px solid black;\n",
       "    border-collapse: collapse;\n",
       "  }\n",
       "  th, td {\n",
       "    padding: 5px;\n",
       "  }\n",
       "  th {\n",
       "    text-align: left;\n",
       "  }\n",
       "</style><div class='table-result-container'><table class='table-result'><thead style='background-color: white'><tr></tr></thead><tbody></tbody></table></div>"
      ]
     },
     "metadata": {
      "application/vnd.databricks.v1+output": {
       "addedWidgets": {},
       "aggData": [],
       "aggError": "",
       "aggOverflow": false,
       "aggSchema": [],
       "aggSeriesLimitReached": false,
       "aggType": "",
       "arguments": {},
       "columnCustomDisplayInfos": {},
       "data": [],
       "datasetInfos": [],
       "dbfsResultPath": null,
       "isJsonSchema": true,
       "metadata": {
        "dataframeName": null
       },
       "overflow": false,
       "plotOptions": {
        "customPlotOptions": {},
        "displayType": "table",
        "pivotAggregation": null,
        "pivotColumns": null,
        "xColumns": null,
        "yColumns": null
       },
       "removedWidgets": [],
       "schema": [],
       "type": "table"
      }
     },
     "output_type": "display_data"
    }
   ],
   "source": [
    "%sql\n",
    "CREATE TABLE IF NOT EXISTS podlakehouse.demo_schema.PipelineActivityLog (\n",
    "    PipelineName STRING,\n",
    "    ActivityName STRING,\n",
    "    ActivityType STRING,\n",
    "    ExecutionStatus STRING,\n",
    "    StartTime TIMESTAMP,\n",
    "    EndTime TIMESTAMP,\n",
    "    Message STRING,\n",
    "    DatabaseName STRING,\n",
    "    SchemaName STRING,\n",
    "    TableName STRING,\n",
    "    RunId STRING\n",
    ") USING DELTA;"
   ]
  },
  {
   "cell_type": "code",
   "execution_count": 0,
   "metadata": {
    "application/vnd.databricks.v1+cell": {
     "cellMetadata": {},
     "inputWidgets": {},
     "nuid": "63dc130f-ee88-49af-b91e-48e47dd8bb30",
     "showTitle": false,
     "tableResultSettingsMap": {},
     "title": ""
    }
   },
   "outputs": [],
   "source": [
    "from datetime import datetime\n",
    "import uuid\n",
    " \n",
    "def log_pipeline_activity(\n",
    "    spark,\n",
    "    no_timestamp_keys,\n",
    "    activity_name,\n",
    "    activity_type,\n",
    "    execution_status,\n",
    "    start_time,\n",
    "    end_time,\n",
    "    message,\n",
    "    database_name,\n",
    "    schema_name,\n",
    "    table_name,\n",
    "    run_id = str(uuid.uuid4())\n",
    "):\n",
    "    log_data = [(pipeline_name, activity_name, activity_type, execution_status,\n",
    "                 start_time, end_time, message, database_name, schema_name, table_name, run_id)]\n",
    " \n",
    "    columns = [\"PipelineName\", \"ActivityName\", \"ActivityType\", \"ExecutionStatus\",\n",
    "               \"StartTime\", \"EndTime\", \"Message\", \"DatabaseName\", \"SchemaName\", \"TableName\", \"RunId\"]\n",
    " \n",
    "    log_df = spark.createDataFrame(log_data, columns)\n",
    " \n",
    "    log_df.write.format(\"delta\").mode(\"append\").saveAsTable(\"podlakehouse.demo_schema.PipelineActivityLog\")"
   ]
  },
  {
   "cell_type": "code",
   "execution_count": 0,
   "metadata": {
    "application/vnd.databricks.v1+cell": {
     "cellMetadata": {
      "byteLimit": 2048000,
      "implicitDf": true,
      "rowLimit": 10000
     },
     "inputWidgets": {},
     "nuid": "e140aa41-2e70-4b70-a956-011044b7f071",
     "showTitle": false,
     "tableResultSettingsMap": {},
     "title": ""
    }
   },
   "outputs": [
    {
     "output_type": "display_data",
     "data": {
      "text/html": [
       "<style scoped>\n",
       "  .table-result-container {\n",
       "    max-height: 300px;\n",
       "    overflow: auto;\n",
       "  }\n",
       "  table, th, td {\n",
       "    border: 1px solid black;\n",
       "    border-collapse: collapse;\n",
       "  }\n",
       "  th, td {\n",
       "    padding: 5px;\n",
       "  }\n",
       "  th {\n",
       "    text-align: left;\n",
       "  }\n",
       "</style><div class='table-result-container'><table class='table-result'><thead style='background-color: white'><tr><th>pipeline_name</th><th>activity_name</th><th>status</th><th>start_time</th><th>end_time</th><th>message</th></tr></thead><tbody><tr><td>Full_Refresh_Load_With_Truncate</td><td>\"Load and Truncate\"</td><td>\"Failed\"</td><td>2025-06-12T05:28:04.898259Z</td><td>2025-06-12T05:28:38.758794Z</td><td>Databricks execution failed with error state: InternalError, error message: Task 47bb5eb0-c747-4808-8d8d-8acd777215a3 failed with message: Unable to access the notebook \"/Users/hiroshimawillb@gmail.com/Test/Load and Truncate\". Either it does not exist, or the identity used to run this job, Robert Hook (hiroshimawillbeexotic16@gmail.com), lacks the required permissions. This caused all downstream tasks to get skipped.. For more details please check the run page url: https://adb-1966020080392065.5.azuredatabricks.net/?o=1966020080392065#job/264765338978529/run/207776307656069.</td></tr><tr><td>Incremental_Load_With_Timestamp</td><td>\"Timestamp\"</td><td>\"Failed\"</td><td>2025-06-12T04:37:21.06203Z</td><td>2025-06-12T04:38:14.005897Z</td><td>Databricks execution failed with error state: InternalError, error message: Task da31eebe-8b47-438c-b706-364af8eed894 failed with message: Workload failed, see run output for details. This caused all downstream tasks to get skipped.. For more details please check the run page url: https://adb-1966020080392065.5.azuredatabricks.net/?o=1966020080392065#job/780931440565842/run/332198820157500.</td></tr><tr><td>Incremental_Load_Without_Timestamp_copy1</td><td>\"Without Timestamp\"</td><td>\"Success\"</td><td>2025-06-12T05:25:26.876409Z</td><td>2025-06-12T05:26:53.458713Z</td><td>\"Without Timestamp completed successfully\"</td></tr><tr><td>Full_Refresh_Load_With_Truncate</td><td>\"Load and Truncate\"</td><td>\"Success\"</td><td>2025-06-12T04:58:58.636402Z</td><td>2025-06-12T05:05:31.427701Z</td><td>\"\"Load and Truncate completed successfully\"</td></tr><tr><td>Incremental_Load_With_Timestamp</td><td>\"Timestamp\"</td><td>\"Success\"</td><td>2025-06-12T04:41:31.556845Z</td><td>2025-06-12T04:42:52.828489Z</td><td>\"\"Timestamp completed successfully\"</td></tr><tr><td>Incremental_Load_With_Timestamp</td><td>\"Timestamp\"</td><td>\"Success\"</td><td>2025-06-12T04:28:26.787066Z</td><td>2025-06-12T04:29:31.44832Z</td><td>\"\"Timestamp completed successfully\"</td></tr><tr><td>Incremental_Load_Without_Timestamp_copy1</td><td>\"Without Timestamp\"</td><td>\"Started\"</td><td>2025-06-12T05:21:27.966815Z</td><td>null</td><td>\"Pipeline started\"</td></tr><tr><td>Incremental_Load_Without_Timestamp_copy1</td><td>\"Without Timestamp\"</td><td>\"Started\"</td><td>2025-06-12T05:25:26.876409Z</td><td>null</td><td>\"Pipeline started\"</td></tr><tr><td>Full_Refresh_Load_With_Truncate</td><td>\"Load and Truncate\"</td><td>\"Started\"</td><td>2025-06-12T04:58:58.636402Z</td><td>null</td><td>\"Pipeline started\"</td></tr><tr><td>Full_Refresh_Load_With_Truncate</td><td>\"Load and Truncate\"</td><td>\"Started\"</td><td>2025-06-12T05:28:04.898259Z</td><td>null</td><td>\"Pipeline started\"</td></tr><tr><td>Incremental_Load_With_Timestamp</td><td>\"Timestamp\"</td><td>\"Started\"</td><td>2025-06-12T04:28:26.787066Z</td><td>null</td><td>\"Pipeline started\"</td></tr><tr><td>Incremental_Load_With_Timestamp</td><td>\"Timestamp\"</td><td>\"Started\"</td><td>2025-06-12T04:37:21.06203Z</td><td>null</td><td>\"Pipeline started\"</td></tr><tr><td>Incremental_Load_With_Timestamp</td><td>\"Timestamp\"</td><td>\"Started\"</td><td>2025-06-12T04:41:31.556845Z</td><td>null</td><td>\"Pipeline started\"</td></tr></tbody></table></div>"
      ]
     },
     "metadata": {
      "application/vnd.databricks.v1+output": {
       "addedWidgets": {},
       "aggData": [],
       "aggError": "",
       "aggOverflow": false,
       "aggSchema": [],
       "aggSeriesLimitReached": false,
       "aggType": "",
       "arguments": {},
       "columnCustomDisplayInfos": {},
       "data": [
        [
         "Full_Refresh_Load_With_Truncate",
         "\"Load and Truncate\"",
         "\"Failed\"",
         "2025-06-12T05:28:04.898259Z",
         "2025-06-12T05:28:38.758794Z",
         "Databricks execution failed with error state: InternalError, error message: Task 47bb5eb0-c747-4808-8d8d-8acd777215a3 failed with message: Unable to access the notebook \"/Users/hiroshimawillb@gmail.com/Test/Load and Truncate\". Either it does not exist, or the identity used to run this job, Robert Hook (hiroshimawillbeexotic16@gmail.com), lacks the required permissions. This caused all downstream tasks to get skipped.. For more details please check the run page url: https://adb-1966020080392065.5.azuredatabricks.net/?o=1966020080392065#job/264765338978529/run/207776307656069."
        ],
        [
         "Incremental_Load_With_Timestamp",
         "\"Timestamp\"",
         "\"Failed\"",
         "2025-06-12T04:37:21.06203Z",
         "2025-06-12T04:38:14.005897Z",
         "Databricks execution failed with error state: InternalError, error message: Task da31eebe-8b47-438c-b706-364af8eed894 failed with message: Workload failed, see run output for details. This caused all downstream tasks to get skipped.. For more details please check the run page url: https://adb-1966020080392065.5.azuredatabricks.net/?o=1966020080392065#job/780931440565842/run/332198820157500."
        ],
        [
         "Incremental_Load_Without_Timestamp_copy1",
         "\"Without Timestamp\"",
         "\"Success\"",
         "2025-06-12T05:25:26.876409Z",
         "2025-06-12T05:26:53.458713Z",
         "\"Without Timestamp completed successfully\""
        ],
        [
         "Full_Refresh_Load_With_Truncate",
         "\"Load and Truncate\"",
         "\"Success\"",
         "2025-06-12T04:58:58.636402Z",
         "2025-06-12T05:05:31.427701Z",
         "\"\"Load and Truncate completed successfully\""
        ],
        [
         "Incremental_Load_With_Timestamp",
         "\"Timestamp\"",
         "\"Success\"",
         "2025-06-12T04:41:31.556845Z",
         "2025-06-12T04:42:52.828489Z",
         "\"\"Timestamp completed successfully\""
        ],
        [
         "Incremental_Load_With_Timestamp",
         "\"Timestamp\"",
         "\"Success\"",
         "2025-06-12T04:28:26.787066Z",
         "2025-06-12T04:29:31.44832Z",
         "\"\"Timestamp completed successfully\""
        ],
        [
         "Incremental_Load_Without_Timestamp_copy1",
         "\"Without Timestamp\"",
         "\"Started\"",
         "2025-06-12T05:21:27.966815Z",
         null,
         "\"Pipeline started\""
        ],
        [
         "Incremental_Load_Without_Timestamp_copy1",
         "\"Without Timestamp\"",
         "\"Started\"",
         "2025-06-12T05:25:26.876409Z",
         null,
         "\"Pipeline started\""
        ],
        [
         "Full_Refresh_Load_With_Truncate",
         "\"Load and Truncate\"",
         "\"Started\"",
         "2025-06-12T04:58:58.636402Z",
         null,
         "\"Pipeline started\""
        ],
        [
         "Full_Refresh_Load_With_Truncate",
         "\"Load and Truncate\"",
         "\"Started\"",
         "2025-06-12T05:28:04.898259Z",
         null,
         "\"Pipeline started\""
        ],
        [
         "Incremental_Load_With_Timestamp",
         "\"Timestamp\"",
         "\"Started\"",
         "2025-06-12T04:28:26.787066Z",
         null,
         "\"Pipeline started\""
        ],
        [
         "Incremental_Load_With_Timestamp",
         "\"Timestamp\"",
         "\"Started\"",
         "2025-06-12T04:37:21.06203Z",
         null,
         "\"Pipeline started\""
        ],
        [
         "Incremental_Load_With_Timestamp",
         "\"Timestamp\"",
         "\"Started\"",
         "2025-06-12T04:41:31.556845Z",
         null,
         "\"Pipeline started\""
        ]
       ],
       "datasetInfos": [],
       "dbfsResultPath": null,
       "isJsonSchema": true,
       "metadata": {
        "dataframeName": "_sqldf",
        "executionCount": 3
       },
       "overflow": false,
       "plotOptions": {
        "customPlotOptions": {},
        "displayType": "table",
        "pivotAggregation": null,
        "pivotColumns": null,
        "xColumns": null,
        "yColumns": null
       },
       "removedWidgets": [],
       "schema": [
        {
         "metadata": "{}",
         "name": "pipeline_name",
         "type": "\"string\""
        },
        {
         "metadata": "{}",
         "name": "activity_name",
         "type": "\"string\""
        },
        {
         "metadata": "{}",
         "name": "status",
         "type": "\"string\""
        },
        {
         "metadata": "{}",
         "name": "start_time",
         "type": "\"timestamp\""
        },
        {
         "metadata": "{}",
         "name": "end_time",
         "type": "\"timestamp\""
        },
        {
         "metadata": "{}",
         "name": "message",
         "type": "\"string\""
        }
       ],
       "type": "table"
      }
     },
     "output_type": "display_data"
    }
   ],
   "source": [
    "%sql\n",
    "select * from podlakehouse.demo_schema.pipeline_log\n"
   ]
  },
  {
   "cell_type": "code",
   "execution_count": 0,
   "metadata": {
    "application/vnd.databricks.v1+cell": {
     "cellMetadata": {},
     "inputWidgets": {},
     "nuid": "78270b85-ed8d-4aa1-bf33-f5dbb0dd471b",
     "showTitle": false,
     "tableResultSettingsMap": {},
     "title": ""
    }
   },
   "outputs": [],
   "source": []
  }
 ],
 "metadata": {
  "application/vnd.databricks.v1+notebook": {
   "computePreferences": null,
   "dashboards": [],
   "environmentMetadata": {
    "base_environment": "",
    "environment_version": "2"
   },
   "inputWidgetPreferences": null,
   "language": "python",
   "notebookMetadata": {
    "mostRecentlyExecutedCommandWithImplicitDF": {
     "commandId": 7923756456332681,
     "dataframes": [
      "_sqldf"
     ]
    },
    "pythonIndentUnit": 4
   },
   "notebookName": "Pipeline Log Activity",
   "widgets": {}
  },
  "language_info": {
   "name": "python"
  }
 },
 "nbformat": 4,
 "nbformat_minor": 0
}