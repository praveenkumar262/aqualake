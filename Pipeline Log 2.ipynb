{
 "cells": [
  {
   "cell_type": "code",
   "execution_count": 0,
   "metadata": {
    "application/vnd.databricks.v1+cell": {
     "cellMetadata": {
      "byteLimit": 2048000,
      "rowLimit": 10000
     },
     "inputWidgets": {},
     "nuid": "60af9b72-f500-4c9a-b146-e381f33d5c6f",
     "showTitle": false,
     "tableResultSettingsMap": {},
     "title": ""
    }
   },
   "outputs": [],
   "source": [
    "from datetime import datetime\n",
    "\n",
    "import uuid\n",
    "\n",
    "from pyspark.sql import SparkSession\n",
    " \n",
    "def log_pipeline_activity(pipeline_name, activity_name, activity_type, execution_status, start_time, end_time, message):\n",
    "\n",
    "    run_id = str(uuid.uuid4())  # Unique Run ID\n",
    "\n",
    "    # Prepare data to log\n",
    "\n",
    "    log_data = [(pipeline_name, activity_name, activity_type, execution_status, start_time, end_time, message, run_id)]\n",
    "\n",
    "    # Convert to a Spark DataFrame\n",
    "\n",
    "    log_df = spark.createDataFrame(log_data, [\"PipelineName\", \"ActivityName\", \"ActivityType\", \"ExecutionStatus\", \"StartTime\", \"EndTime\", \"Message\", \"RunId\"])\n",
    "\n",
    "    # Write to Delta table\n",
    "\n",
    "    log_df.write.format(\"delta\").mode(\"append\").saveAsTable(\"pipeline_activity_log\")\n",
    " \n",
    "# Example usage in a Databricks notebook\n",
    "\n",
    "log_pipeline_activity(\n",
    "\n",
    "    pipeline_name=\"DataFactory_Activity\",\n",
    "\n",
    "    activity_name=\"Notebook Execution\",\n",
    "\n",
    "    activity_type=\"Databricks Notebook\",\n",
    "\n",
    "    execution_status=\"Success\",\n",
    "\n",
    "    start_time=datetime.now(),\n",
    "\n",
    "    end_time=datetime.now(),\n",
    "\n",
    "    message=\"Pipeline ran successfully.\"\n",
    "\n",
    ")\n",
    "\n",
    " "
   ]
  },
  {
   "cell_type": "code",
   "execution_count": 0,
   "metadata": {
    "application/vnd.databricks.v1+cell": {
     "cellMetadata": {
      "byteLimit": 2048000,
      "rowLimit": 10000
     },
     "inputWidgets": {},
     "nuid": "53007dd1-372c-4649-82ff-dbedafc26f2a",
     "showTitle": false,
     "tableResultSettingsMap": {},
     "title": ""
    }
   },
   "outputs": [],
   "source": [
    "# ---------------------------------------------------------\n",
    "\n",
    "# STEP 1: Read parameters from ADF widgets\n",
    "\n",
    "# ---------------------------------------------------------\n",
    "\n",
    "dbutils.widgets.text(\"pipeline_name\", \"\")\n",
    "\n",
    "dbutils.widgets.text(\"activity_name\", \"\")\n",
    "\n",
    "dbutils.widgets.text(\"activity_type\", \"\")\n",
    "\n",
    "dbutils.widgets.text(\"status\", \"\")\n",
    "\n",
    "dbutils.widgets.text(\"start_time\", \"\")\n",
    "\n",
    "dbutils.widgets.text(\"end_time\", \"\")\n",
    "\n",
    "dbutils.widgets.text(\"message\", \"\")\n",
    "\n",
    "dbutils.widgets.text(\"database_name\", \"\")\n",
    "\n",
    "dbutils.widgets.text(\"schema_name\", \"\")\n",
    "\n",
    "dbutils.widgets.text(\"table_name\", \"\")\n",
    "\n",
    "dbutils.widgets.text(\"run_id\", \"\")\n",
    " \n",
    "pipeline_name = dbutils.widgets.get(\"pipeline_name\")\n",
    "\n",
    "activity_name = dbutils.widgets.get(\"activity_name\")\n",
    "\n",
    "activity_type = dbutils.widgets.get(\"activity_type\")\n",
    "\n",
    "status = dbutils.widgets.get(\"status\")\n",
    "\n",
    "start_time_str = dbutils.widgets.get(\"start_time\")\n",
    "\n",
    "end_time_str = dbutils.widgets.get(\"end_time\")\n",
    "\n",
    "message = dbutils.widgets.get(\"message\")\n",
    "\n",
    "database_name = dbutils.widgets.get(\"database_name\")\n",
    "\n",
    "schema_name = dbutils.widgets.get(\"schema_name\")\n",
    "\n",
    "table_name = dbutils.widgets.get(\"table_name\")\n",
    "\n",
    "run_id = dbutils.widgets.get(\"run_id\")\n",
    " \n",
    "# ---------------------------------------------------------\n",
    "\n",
    "# STEP 2: Safely parse timestamps\n",
    "\n",
    "# ---------------------------------------------------------\n",
    "\n",
    "from datetime import datetime\n",
    "\n",
    "from pyspark.sql.types import StructType, StructField, StringType, TimestampType\n",
    " \n",
    "def safe_parse(dt_str):\n",
    "\n",
    "    try:\n",
    "\n",
    "        return datetime.fromisoformat(dt_str.replace(\"Z\", \"+00:00\")) if dt_str else None\n",
    "\n",
    "    except Exception:\n",
    "\n",
    "        return None\n",
    " \n",
    "start_time = safe_parse(start_time_str)\n",
    "\n",
    "end_time = safe_parse(end_time_str)\n",
    " \n",
    "# ---------------------------------------------------------\n",
    "\n",
    "# STEP 3: Define schema explicitly\n",
    "\n",
    "# ---------------------------------------------------------\n",
    "\n",
    "schema = StructType([\n",
    "\n",
    "    StructField(\"PipelineName\", StringType(), True),\n",
    "\n",
    "    StructField(\"ActivityName\", StringType(), True),\n",
    "\n",
    "    StructField(\"ActivityType\", StringType(), True),\n",
    "\n",
    "    StructField(\"ExecutionStatus\", StringType(), True),\n",
    "\n",
    "    StructField(\"StartTime\", TimestampType(), True),\n",
    "\n",
    "    StructField(\"EndTime\", TimestampType(), True),\n",
    "\n",
    "    StructField(\"Message\", StringType(), True),\n",
    "\n",
    "    StructField(\"DatabaseName\", StringType(), True),\n",
    "\n",
    "    StructField(\"SchemaName\", StringType(), True),\n",
    "\n",
    "    StructField(\"TableName\", StringType(), True),\n",
    "\n",
    "    StructField(\"RunId\", StringType(), True)\n",
    "\n",
    "])\n",
    " \n",
    "# ---------------------------------------------------------\n",
    "\n",
    "# STEP 4: Create DataFrame with defined schema\n",
    "\n",
    "# ---------------------------------------------------------\n",
    "\n",
    "data = [(pipeline_name, activity_name, activity_type, status, start_time, end_time, message,\n",
    "\n",
    "         database_name, schema_name, table_name, run_id)]\n",
    "\n",
    "log_df = spark.createDataFrame(data, schema=schema)\n",
    " \n",
    "# ---------------------------------------------------------\n",
    "\n",
    "# STEP 5: Write to your Delta table\n",
    "\n",
    "# ---------------------------------------------------------\n",
    "\n",
    "# log_df.write \\\n",
    "# .format(\"delta\") \\\n",
    "# .mode(\"append\") \\\n",
    "# .saveAsTable(\"podlakehouse.demo_schema.PipelineActivityLog\")\n",
    "\n",
    "log_df.write \\\n",
    "    .format(\"delta\") \\\n",
    "    .option(\"mergeSchema\", \"true\") \\\n",
    "    .mode(\"append\") \\\n",
    "    .saveAsTable(\"podlakehouse.demo_schema.PipelineActivityLog\")\n",
    "\n",
    " "
   ]
  },
  {
   "cell_type": "code",
   "execution_count": 0,
   "metadata": {
    "application/vnd.databricks.v1+cell": {
     "cellMetadata": {
      "byteLimit": 2048000,
      "implicitDf": true,
      "rowLimit": 10000
     },
     "inputWidgets": {},
     "nuid": "cc056209-2cd8-4b76-a1ab-58c607da4a63",
     "showTitle": false,
     "tableResultSettingsMap": {},
     "title": ""
    }
   },
   "outputs": [
    {
     "output_type": "display_data",
     "data": {
      "text/html": [
       "<style scoped>\n",
       "  .table-result-container {\n",
       "    max-height: 300px;\n",
       "    overflow: auto;\n",
       "  }\n",
       "  table, th, td {\n",
       "    border: 1px solid black;\n",
       "    border-collapse: collapse;\n",
       "  }\n",
       "  th, td {\n",
       "    padding: 5px;\n",
       "  }\n",
       "  th {\n",
       "    text-align: left;\n",
       "  }\n",
       "</style><div class='table-result-container'><table class='table-result'><thead style='background-color: white'><tr><th>PipelineName</th><th>ActivityName</th><th>ActivityType</th><th>ExecutionStatus</th><th>StartTime</th><th>EndTime</th><th>Message</th><th>DatabaseName</th><th>SchemaName</th><th>TableName</th><th>RunId</th><th>pipeline_name</th><th>activity_name</th><th>execution_status</th><th>start_time</th><th>end_time</th></tr></thead><tbody><tr><td>MyADF_Pipeline</td><td>Databricks_Activity</td><td>Databricks Notebook</td><td></td><td>null</td><td>null</td><td>Pipeline executed</td><td></td><td></td><td></td><td></td><td>null</td><td>null</td><td>null</td><td>null</td><td>null</td></tr><tr><td></td><td></td><td></td><td></td><td>null</td><td>null</td><td></td><td></td><td></td><td></td><td></td><td>null</td><td>null</td><td>null</td><td>null</td><td>null</td></tr><tr><td></td><td></td><td></td><td></td><td>null</td><td>null</td><td></td><td></td><td></td><td></td><td></td><td>null</td><td>null</td><td>null</td><td>null</td><td>null</td></tr><tr><td></td><td></td><td></td><td></td><td>null</td><td>null</td><td></td><td></td><td></td><td></td><td></td><td>null</td><td>null</td><td>null</td><td>null</td><td>null</td></tr><tr><td></td><td></td><td></td><td></td><td>null</td><td>null</td><td></td><td></td><td></td><td></td><td></td><td>null</td><td>null</td><td>null</td><td>null</td><td>null</td></tr><tr><td>null</td><td>null</td><td>null</td><td>null</td><td>null</td><td>null</td><td></td><td>null</td><td>null</td><td>null</td><td>null</td><td></td><td></td><td></td><td>null</td><td>null</td></tr><tr><td>null</td><td>null</td><td>null</td><td>null</td><td>null</td><td>null</td><td></td><td>null</td><td>null</td><td>null</td><td>null</td><td></td><td></td><td></td><td>null</td><td>null</td></tr><tr><td>MyADF_Pipeline</td><td>Databricks_Activity</td><td>Databricks Notebook</td><td></td><td>null</td><td>null</td><td>Pipeline executed</td><td></td><td></td><td></td><td></td><td>null</td><td>null</td><td>null</td><td>null</td><td>null</td></tr><tr><td>MyADF_Pipeline</td><td>Databricks_Activity</td><td>Databricks Notebook</td><td></td><td>null</td><td>null</td><td>Pipeline executed</td><td></td><td></td><td></td><td></td><td>null</td><td>null</td><td>null</td><td>null</td><td>null</td></tr></tbody></table></div>"
      ]
     },
     "metadata": {
      "application/vnd.databricks.v1+output": {
       "addedWidgets": {},
       "aggData": [],
       "aggError": "",
       "aggOverflow": false,
       "aggSchema": [],
       "aggSeriesLimitReached": false,
       "aggType": "",
       "arguments": {},
       "columnCustomDisplayInfos": {},
       "data": [
        [
         "MyADF_Pipeline",
         "Databricks_Activity",
         "Databricks Notebook",
         "",
         null,
         null,
         "Pipeline executed",
         "",
         "",
         "",
         "",
         null,
         null,
         null,
         null,
         null
        ],
        [
         "",
         "",
         "",
         "",
         null,
         null,
         "",
         "",
         "",
         "",
         "",
         null,
         null,
         null,
         null,
         null
        ],
        [
         "",
         "",
         "",
         "",
         null,
         null,
         "",
         "",
         "",
         "",
         "",
         null,
         null,
         null,
         null,
         null
        ],
        [
         "",
         "",
         "",
         "",
         null,
         null,
         "",
         "",
         "",
         "",
         "",
         null,
         null,
         null,
         null,
         null
        ],
        [
         "",
         "",
         "",
         "",
         null,
         null,
         "",
         "",
         "",
         "",
         "",
         null,
         null,
         null,
         null,
         null
        ],
        [
         null,
         null,
         null,
         null,
         null,
         null,
         "",
         null,
         null,
         null,
         null,
         "",
         "",
         "",
         null,
         null
        ],
        [
         null,
         null,
         null,
         null,
         null,
         null,
         "",
         null,
         null,
         null,
         null,
         "",
         "",
         "",
         null,
         null
        ],
        [
         "MyADF_Pipeline",
         "Databricks_Activity",
         "Databricks Notebook",
         "",
         null,
         null,
         "Pipeline executed",
         "",
         "",
         "",
         "",
         null,
         null,
         null,
         null,
         null
        ],
        [
         "MyADF_Pipeline",
         "Databricks_Activity",
         "Databricks Notebook",
         "",
         null,
         null,
         "Pipeline executed",
         "",
         "",
         "",
         "",
         null,
         null,
         null,
         null,
         null
        ]
       ],
       "datasetInfos": [],
       "dbfsResultPath": null,
       "isJsonSchema": true,
       "metadata": {
        "dataframeName": "_sqldf",
        "executionCount": 11
       },
       "overflow": false,
       "plotOptions": {
        "customPlotOptions": {},
        "displayType": "table",
        "pivotAggregation": null,
        "pivotColumns": null,
        "xColumns": null,
        "yColumns": null
       },
       "removedWidgets": [],
       "schema": [
        {
         "metadata": "{}",
         "name": "PipelineName",
         "type": "\"string\""
        },
        {
         "metadata": "{}",
         "name": "ActivityName",
         "type": "\"string\""
        },
        {
         "metadata": "{}",
         "name": "ActivityType",
         "type": "\"string\""
        },
        {
         "metadata": "{}",
         "name": "ExecutionStatus",
         "type": "\"string\""
        },
        {
         "metadata": "{}",
         "name": "StartTime",
         "type": "\"timestamp\""
        },
        {
         "metadata": "{}",
         "name": "EndTime",
         "type": "\"timestamp\""
        },
        {
         "metadata": "{}",
         "name": "Message",
         "type": "\"string\""
        },
        {
         "metadata": "{}",
         "name": "DatabaseName",
         "type": "\"string\""
        },
        {
         "metadata": "{}",
         "name": "SchemaName",
         "type": "\"string\""
        },
        {
         "metadata": "{}",
         "name": "TableName",
         "type": "\"string\""
        },
        {
         "metadata": "{}",
         "name": "RunId",
         "type": "\"string\""
        },
        {
         "metadata": "{}",
         "name": "pipeline_name",
         "type": "\"string\""
        },
        {
         "metadata": "{}",
         "name": "activity_name",
         "type": "\"string\""
        },
        {
         "metadata": "{}",
         "name": "execution_status",
         "type": "\"string\""
        },
        {
         "metadata": "{}",
         "name": "start_time",
         "type": "\"timestamp\""
        },
        {
         "metadata": "{}",
         "name": "end_time",
         "type": "\"timestamp\""
        }
       ],
       "type": "table"
      }
     },
     "output_type": "display_data"
    }
   ],
   "source": [
    "%sql\n",
    "select * from podlakehouse.demo_schema.PipelineActivityLog;"
   ]
  },
  {
   "cell_type": "code",
   "execution_count": 0,
   "metadata": {
    "application/vnd.databricks.v1+cell": {
     "cellMetadata": {},
     "inputWidgets": {},
     "nuid": "5a9f5d16-0549-4c9c-82fe-0123376b58ff",
     "showTitle": false,
     "tableResultSettingsMap": {},
     "title": ""
    }
   },
   "outputs": [],
   "source": []
  }
 ],
 "metadata": {
  "application/vnd.databricks.v1+notebook": {
   "computePreferences": null,
   "dashboards": [],
   "environmentMetadata": {
    "base_environment": "",
    "environment_version": "2"
   },
   "inputWidgetPreferences": null,
   "language": "python",
   "notebookMetadata": {
    "mostRecentlyExecutedCommandWithImplicitDF": {
     "commandId": 7923756456332680,
     "dataframes": [
      "_sqldf"
     ]
    },
    "pythonIndentUnit": 4
   },
   "notebookName": "Pipeline Log 2",
   "widgets": {
    "activity_name": {
     "currentValue": "",
     "nuid": "94fb1c8b-d274-410d-9c2d-8bc5f3c1a91d",
     "typedWidgetInfo": {
      "autoCreated": false,
      "defaultValue": "",
      "label": null,
      "name": "activity_name",
      "options": {
       "widgetDisplayType": "Text",
       "validationRegex": null
      },
      "parameterDataType": "String"
     },
     "widgetInfo": {
      "widgetType": "text",
      "defaultValue": "",
      "label": null,
      "name": "activity_name",
      "options": {
       "widgetType": "text",
       "autoCreated": null,
       "validationRegex": null
      }
     }
    },
    "activity_type": {
     "currentValue": "",
     "nuid": "3fdeb40e-22e8-4772-bb37-d33e7fd4235b",
     "typedWidgetInfo": {
      "autoCreated": false,
      "defaultValue": "",
      "label": null,
      "name": "activity_type",
      "options": {
       "widgetDisplayType": "Text",
       "validationRegex": null
      },
      "parameterDataType": "String"
     },
     "widgetInfo": {
      "widgetType": "text",
      "defaultValue": "",
      "label": null,
      "name": "activity_type",
      "options": {
       "widgetType": "text",
       "autoCreated": null,
       "validationRegex": null
      }
     }
    },
    "database_name": {
     "currentValue": "",
     "nuid": "c62cfa4a-c95d-4032-a7cb-ef0b77ee8843",
     "typedWidgetInfo": {
      "autoCreated": false,
      "defaultValue": "",
      "label": null,
      "name": "database_name",
      "options": {
       "widgetDisplayType": "Text",
       "validationRegex": null
      },
      "parameterDataType": "String"
     },
     "widgetInfo": {
      "widgetType": "text",
      "defaultValue": "",
      "label": null,
      "name": "database_name",
      "options": {
       "widgetType": "text",
       "autoCreated": null,
       "validationRegex": null
      }
     }
    },
    "end_time": {
     "currentValue": "",
     "nuid": "32c4b5ad-5860-45e1-8038-99ca08a621c2",
     "typedWidgetInfo": {
      "autoCreated": false,
      "defaultValue": "",
      "label": null,
      "name": "end_time",
      "options": {
       "widgetDisplayType": "Text",
       "validationRegex": null
      },
      "parameterDataType": "String"
     },
     "widgetInfo": {
      "widgetType": "text",
      "defaultValue": "",
      "label": null,
      "name": "end_time",
      "options": {
       "widgetType": "text",
       "autoCreated": null,
       "validationRegex": null
      }
     }
    },
    "execution_status": {
     "currentValue": "",
     "nuid": "f8cfc8cb-77a0-491a-9f29-9314bb12a61b",
     "typedWidgetInfo": {
      "autoCreated": false,
      "defaultValue": "",
      "label": null,
      "name": "execution_status",
      "options": {
       "widgetDisplayType": "Text",
       "validationRegex": null
      },
      "parameterDataType": "String"
     },
     "widgetInfo": {
      "widgetType": "text",
      "defaultValue": "",
      "label": null,
      "name": "execution_status",
      "options": {
       "widgetType": "text",
       "autoCreated": null,
       "validationRegex": null
      }
     }
    },
    "message": {
     "currentValue": "",
     "nuid": "ef19229b-df98-436d-acd8-3d6511d0809c",
     "typedWidgetInfo": {
      "autoCreated": false,
      "defaultValue": "",
      "label": null,
      "name": "message",
      "options": {
       "widgetDisplayType": "Text",
       "validationRegex": null
      },
      "parameterDataType": "String"
     },
     "widgetInfo": {
      "widgetType": "text",
      "defaultValue": "",
      "label": null,
      "name": "message",
      "options": {
       "widgetType": "text",
       "autoCreated": null,
       "validationRegex": null
      }
     }
    },
    "pipeline_name": {
     "currentValue": "",
     "nuid": "5d137d48-0582-4be1-8f78-4f881895da25",
     "typedWidgetInfo": {
      "autoCreated": false,
      "defaultValue": "",
      "label": null,
      "name": "pipeline_name",
      "options": {
       "widgetDisplayType": "Text",
       "validationRegex": null
      },
      "parameterDataType": "String"
     },
     "widgetInfo": {
      "widgetType": "text",
      "defaultValue": "",
      "label": null,
      "name": "pipeline_name",
      "options": {
       "widgetType": "text",
       "autoCreated": null,
       "validationRegex": null
      }
     }
    },
    "run_id": {
     "currentValue": "",
     "nuid": "c3fc37e8-fbaf-466b-a973-718027c6753e",
     "typedWidgetInfo": {
      "autoCreated": false,
      "defaultValue": "",
      "label": null,
      "name": "run_id",
      "options": {
       "widgetDisplayType": "Text",
       "validationRegex": null
      },
      "parameterDataType": "String"
     },
     "widgetInfo": {
      "widgetType": "text",
      "defaultValue": "",
      "label": null,
      "name": "run_id",
      "options": {
       "widgetType": "text",
       "autoCreated": null,
       "validationRegex": null
      }
     }
    },
    "schema_name": {
     "currentValue": "",
     "nuid": "eb0c4864-8006-4fad-8643-bed391003f27",
     "typedWidgetInfo": {
      "autoCreated": false,
      "defaultValue": "",
      "label": null,
      "name": "schema_name",
      "options": {
       "widgetDisplayType": "Text",
       "validationRegex": null
      },
      "parameterDataType": "String"
     },
     "widgetInfo": {
      "widgetType": "text",
      "defaultValue": "",
      "label": null,
      "name": "schema_name",
      "options": {
       "widgetType": "text",
       "autoCreated": null,
       "validationRegex": null
      }
     }
    },
    "start_time": {
     "currentValue": "",
     "nuid": "858fb1e8-e42c-4084-a2c9-21beab610fb6",
     "typedWidgetInfo": {
      "autoCreated": false,
      "defaultValue": "",
      "label": null,
      "name": "start_time",
      "options": {
       "widgetDisplayType": "Text",
       "validationRegex": null
      },
      "parameterDataType": "String"
     },
     "widgetInfo": {
      "widgetType": "text",
      "defaultValue": "",
      "label": null,
      "name": "start_time",
      "options": {
       "widgetType": "text",
       "autoCreated": null,
       "validationRegex": null
      }
     }
    },
    "status": {
     "currentValue": "",
     "nuid": "28b0e234-1d6a-4ebb-8288-0611d2ab2220",
     "typedWidgetInfo": {
      "autoCreated": false,
      "defaultValue": "",
      "label": null,
      "name": "status",
      "options": {
       "widgetDisplayType": "Text",
       "validationRegex": null
      },
      "parameterDataType": "String"
     },
     "widgetInfo": {
      "widgetType": "text",
      "defaultValue": "",
      "label": null,
      "name": "status",
      "options": {
       "widgetType": "text",
       "autoCreated": null,
       "validationRegex": null
      }
     }
    },
    "table_name": {
     "currentValue": "",
     "nuid": "648debd1-9e93-4dc5-ba22-0909db9b9b40",
     "typedWidgetInfo": {
      "autoCreated": false,
      "defaultValue": "",
      "label": null,
      "name": "table_name",
      "options": {
       "widgetDisplayType": "Text",
       "validationRegex": null
      },
      "parameterDataType": "String"
     },
     "widgetInfo": {
      "widgetType": "text",
      "defaultValue": "",
      "label": null,
      "name": "table_name",
      "options": {
       "widgetType": "text",
       "autoCreated": null,
       "validationRegex": null
      }
     }
    }
   }
  },
  "language_info": {
   "name": "python"
  }
 },
 "nbformat": 4,
 "nbformat_minor": 0
}