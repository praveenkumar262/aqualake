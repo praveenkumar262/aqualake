{
 "cells": [
  {
   "cell_type": "code",
   "execution_count": 0,
   "metadata": {
    "application/vnd.databricks.v1+cell": {
     "cellMetadata": {
      "byteLimit": 2048000,
      "rowLimit": 10000
     },
     "inputWidgets": {},
     "nuid": "140850b6-f7c0-47f7-bb51-e88418f822b0",
     "showTitle": false,
     "tableResultSettingsMap": {},
     "title": ""
    }
   },
   "outputs": [
    {
     "output_type": "stream",
     "name": "stdout",
     "output_type": "stream",
     "text": [
      "Parsed start_time: None\nParsed end_time: None\n+---------------+-------------+---------+--------------------------+--------+-----------------------------------+\n|pipeline_name  |activity_name|status   |start_time                |end_time|message                            |\n+---------------+-------------+---------+--------------------------+--------+-----------------------------------+\n|with time stamp|\"Timestamp\"  |\"Success\"|2025-06-11 14:15:54.419838|NULL    |\"\"Timestamp completed successfully\"|\n|with time stamp|\"Timestamp\"  |\"Started\"|NULL                      |NULL    |\"Pipeline started\"                 |\n|               |             |         |NULL                      |NULL    |                                   |\n|               |             |         |NULL                      |NULL    |                                   |\n|               |             |         |NULL                      |NULL    |                                   |\n+---------------+-------------+---------+--------------------------+--------+-----------------------------------+\n\n"
     ]
    }
   ],
   "source": [
    "# ---------------------------------------------------------\n",
    "# STEP 1: Install required library (only once per cluster)\n",
    "# ---------------------------------------------------------\n",
    "#%pip install python-dateutil\n",
    "\n",
    "# ---------------------------------------------------------\n",
    "# STEP 2: Import required libraries\n",
    "# ---------------------------------------------------------\n",
    "from datetime import datetime\n",
    "from dateutil import parser\n",
    "from pyspark.sql.types import StructType, StructField, StringType, TimestampType\n",
    "from pyspark.sql import SparkSession\n",
    "\n",
    "# ---------------------------------------------------------\n",
    "# STEP 3: Define widgets to receive input from ADF\n",
    "# ---------------------------------------------------------\n",
    "dbutils.widgets.text(\"pipeline_name\", \"\")\n",
    "dbutils.widgets.text(\"activity_name\", \"\")\n",
    "dbutils.widgets.text(\"status\", \"\")\n",
    "dbutils.widgets.text(\"start_time\", \"\")\n",
    "dbutils.widgets.text(\"end_time\", \"\")\n",
    "dbutils.widgets.text(\"message\", \"\")\n",
    "\n",
    "# ---------------------------------------------------------\n",
    "# STEP 4: Get widget values\n",
    "# ---------------------------------------------------------\n",
    "pipeline_name = dbutils.widgets.get(\"pipeline_name\")\n",
    "activity_name = dbutils.widgets.get(\"activity_name\")\n",
    "status = dbutils.widgets.get(\"status\")\n",
    "start_time_str = dbutils.widgets.get(\"start_time\")\n",
    "end_time_str = dbutils.widgets.get(\"end_time\")\n",
    "message = dbutils.widgets.get(\"message\")\n",
    "\n",
    "# ---------------------------------------------------------\n",
    "# STEP 5: Define a safe parser for ISO timestamps\n",
    "# ---------------------------------------------------------\n",
    "def safe_parse(dt_str):\n",
    "    try:\n",
    "        return parser.isoparse(dt_str) if dt_str else None\n",
    "    except Exception as e:\n",
    "        print(f\"Failed to parse datetime: {dt_str} -> {e}\")\n",
    "        return None\n",
    "\n",
    "start_time = safe_parse(start_time_str)\n",
    "end_time = safe_parse(end_time_str)\n",
    "\n",
    "# Debug check (optional)\n",
    "print(\"Parsed start_time:\", start_time)\n",
    "print(\"Parsed end_time:\", end_time)\n",
    "\n",
    "# ---------------------------------------------------------\n",
    "# STEP 6: Define schema and create DataFrame\n",
    "# ---------------------------------------------------------\n",
    "schema = StructType([\n",
    "    StructField(\"pipeline_name\", StringType(), True),\n",
    "    StructField(\"activity_name\", StringType(), True),\n",
    "    StructField(\"status\", StringType(), True),\n",
    "    StructField(\"start_time\", TimestampType(), True),\n",
    "    StructField(\"end_time\", TimestampType(), True),\n",
    "    StructField(\"message\", StringType(), True)\n",
    "])\n",
    "\n",
    "data = [(pipeline_name, activity_name, status, start_time, end_time, message)]\n",
    "\n",
    "log_df = spark.createDataFrame(data, schema=schema)\n",
    "\n",
    "# ---------------------------------------------------------\n",
    "# STEP 7: Write to Delta log table\n",
    "# ---------------------------------------------------------\n",
    "log_df.write \\\n",
    "    .format(\"delta\") \\\n",
    "    .mode(\"append\") \\\n",
    "    .saveAsTable(\"podlakehouse.demo_schema.pipeline_log\")\n",
    "\n",
    "# ---------------------------------------------------------\n",
    "# STEP 8: (Optional) View latest logs\n",
    "# ---------------------------------------------------------\n",
    "spark.sql(\"SELECT * FROM podlakehouse.demo_schema.pipeline_log ORDER BY start_time DESC\").show(truncate=False)\n"
   ]
  },
  {
   "cell_type": "code",
   "execution_count": 0,
   "metadata": {
    "application/vnd.databricks.v1+cell": {
     "cellMetadata": {
      "byteLimit": 2048000,
      "implicitDf": true,
      "rowLimit": 10000
     },
     "inputWidgets": {},
     "nuid": "97ca3695-150f-4b5b-b845-039dd709ee9b",
     "showTitle": false,
     "tableResultSettingsMap": {},
     "title": ""
    }
   },
   "outputs": [
    {
     "output_type": "display_data",
     "data": {
      "text/html": [
       "<style scoped>\n",
       "  .table-result-container {\n",
       "    max-height: 300px;\n",
       "    overflow: auto;\n",
       "  }\n",
       "  table, th, td {\n",
       "    border: 1px solid black;\n",
       "    border-collapse: collapse;\n",
       "  }\n",
       "  th, td {\n",
       "    padding: 5px;\n",
       "  }\n",
       "  th {\n",
       "    text-align: left;\n",
       "  }\n",
       "</style><div class='table-result-container'><table class='table-result'><thead style='background-color: white'><tr></tr></thead><tbody></tbody></table></div>"
      ]
     },
     "metadata": {
      "application/vnd.databricks.v1+output": {
       "addedWidgets": {},
       "aggData": [],
       "aggError": "",
       "aggOverflow": false,
       "aggSchema": [],
       "aggSeriesLimitReached": false,
       "aggType": "",
       "arguments": {},
       "columnCustomDisplayInfos": {},
       "data": [],
       "datasetInfos": [],
       "dbfsResultPath": null,
       "isJsonSchema": true,
       "metadata": {
        "dataframeName": null
       },
       "overflow": false,
       "plotOptions": {
        "customPlotOptions": {},
        "displayType": "table",
        "pivotAggregation": null,
        "pivotColumns": null,
        "xColumns": null,
        "yColumns": null
       },
       "removedWidgets": [],
       "schema": [],
       "type": "table"
      }
     },
     "output_type": "display_data"
    }
   ],
   "source": [
    "%sql\n",
    "truncate table incremental_db.pipeline_log"
   ]
  },
  {
   "cell_type": "code",
   "execution_count": 0,
   "metadata": {
    "application/vnd.databricks.v1+cell": {
     "cellMetadata": {},
     "inputWidgets": {},
     "nuid": "37bbd242-3d37-4dfa-96f5-0fee7144159d",
     "showTitle": false,
     "tableResultSettingsMap": {},
     "title": ""
    }
   },
   "outputs": [],
   "source": []
  }
 ],
 "metadata": {
  "application/vnd.databricks.v1+notebook": {
   "computePreferences": null,
   "dashboards": [],
   "environmentMetadata": {
    "base_environment": "",
    "environment_version": "2"
   },
   "inputWidgetPreferences": null,
   "language": "python",
   "notebookMetadata": {
    "mostRecentlyExecutedCommandWithImplicitDF": {
     "commandId": 7474621660739866,
     "dataframes": [
      "_sqldf"
     ]
    },
    "pythonIndentUnit": 4
   },
   "notebookName": "LogPipelineStatus",
   "widgets": {
    "activity_name": {
     "currentValue": "",
     "nuid": "765f5313-e71b-48ce-baa5-6346d9ca08d7",
     "typedWidgetInfo": {
      "autoCreated": false,
      "defaultValue": "",
      "label": null,
      "name": "activity_name",
      "options": {
       "widgetDisplayType": "Text",
       "validationRegex": null
      },
      "parameterDataType": "String"
     },
     "widgetInfo": {
      "widgetType": "text",
      "defaultValue": "",
      "label": null,
      "name": "activity_name",
      "options": {
       "widgetType": "text",
       "autoCreated": null,
       "validationRegex": null
      }
     }
    },
    "end_time": {
     "currentValue": "",
     "nuid": "5397c56e-003c-480b-994a-3f7955a30417",
     "typedWidgetInfo": {
      "autoCreated": false,
      "defaultValue": "",
      "label": null,
      "name": "end_time",
      "options": {
       "widgetDisplayType": "Text",
       "validationRegex": null
      },
      "parameterDataType": "String"
     },
     "widgetInfo": {
      "widgetType": "text",
      "defaultValue": "",
      "label": null,
      "name": "end_time",
      "options": {
       "widgetType": "text",
       "autoCreated": null,
       "validationRegex": null
      }
     }
    },
    "message": {
     "currentValue": "",
     "nuid": "3fc7e048-a6f4-48f7-9c98-a72ef50ef702",
     "typedWidgetInfo": {
      "autoCreated": false,
      "defaultValue": "",
      "label": null,
      "name": "message",
      "options": {
       "widgetDisplayType": "Text",
       "validationRegex": null
      },
      "parameterDataType": "String"
     },
     "widgetInfo": {
      "widgetType": "text",
      "defaultValue": "",
      "label": null,
      "name": "message",
      "options": {
       "widgetType": "text",
       "autoCreated": null,
       "validationRegex": null
      }
     }
    },
    "pipeline_name": {
     "currentValue": "",
     "nuid": "6f7080a9-68e9-40dd-a9f4-25be72e8d5e9",
     "typedWidgetInfo": {
      "autoCreated": false,
      "defaultValue": "",
      "label": null,
      "name": "pipeline_name",
      "options": {
       "widgetDisplayType": "Text",
       "validationRegex": null
      },
      "parameterDataType": "String"
     },
     "widgetInfo": {
      "widgetType": "text",
      "defaultValue": "",
      "label": null,
      "name": "pipeline_name",
      "options": {
       "widgetType": "text",
       "autoCreated": null,
       "validationRegex": null
      }
     }
    },
    "start_time": {
     "currentValue": "",
     "nuid": "2f856e4b-1c7d-4b22-9f39-e75914763ba9",
     "typedWidgetInfo": {
      "autoCreated": false,
      "defaultValue": "",
      "label": null,
      "name": "start_time",
      "options": {
       "widgetDisplayType": "Text",
       "validationRegex": null
      },
      "parameterDataType": "String"
     },
     "widgetInfo": {
      "widgetType": "text",
      "defaultValue": "",
      "label": null,
      "name": "start_time",
      "options": {
       "widgetType": "text",
       "autoCreated": null,
       "validationRegex": null
      }
     }
    },
    "status": {
     "currentValue": "",
     "nuid": "20fc251b-f545-4009-99da-36620efc2ff1",
     "typedWidgetInfo": {
      "autoCreated": false,
      "defaultValue": "",
      "label": null,
      "name": "status",
      "options": {
       "widgetDisplayType": "Text",
       "validationRegex": null
      },
      "parameterDataType": "String"
     },
     "widgetInfo": {
      "widgetType": "text",
      "defaultValue": "",
      "label": null,
      "name": "status",
      "options": {
       "widgetType": "text",
       "autoCreated": null,
       "validationRegex": null
      }
     }
    }
   }
  },
  "language_info": {
   "name": "python"
  }
 },
 "nbformat": 4,
 "nbformat_minor": 0
}